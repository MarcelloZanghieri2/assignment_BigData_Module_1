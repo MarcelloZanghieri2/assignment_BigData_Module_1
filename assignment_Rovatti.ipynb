{
  "nbformat": 4,
  "nbformat_minor": 0,
  "metadata": {
    "kernelspec": {
      "display_name": "Python 3",
      "language": "python",
      "name": "python3"
    },
    "language_info": {
      "codemirror_mode": {
        "name": "ipython",
        "version": 3
      },
      "file_extension": ".py",
      "mimetype": "text/x-python",
      "name": "python",
      "nbconvert_exporter": "python",
      "pygments_lexer": "ipython3",
      "version": "3.7.6"
    },
    "colab": {
      "name": "assignment_Rovatti.ipynb",
      "provenance": [],
      "collapsed_sections": []
    }
  },
  "cells": [
    {
      "cell_type": "markdown",
      "metadata": {
        "id": "hgX2SVrHvr5s",
        "colab_type": "text"
      },
      "source": [
        "# Assignment for Big Data Module 1\n",
        "\n",
        "\"*Implementare un interpolatore lineare a tratti su una griglia a $n$ dimensioni.*\n",
        "\n",
        "*Supporre che sia data la struttura dati multidimensionale $S_{j_0, \\cdots, j_{n - 1}}$ che contiene il valore del campione della funzione nel punto della griglia di indici $j_0, \\cdots, j_{n-1}$ e che il punto in cui desidero calcolare l'interpolazione sia dato come un vettore $x_j$ con $n$ componenti.*\"\n",
        "\n",
        "Reference used: course lecture notes *4 - Interpolation*."
      ]
    },
    {
      "cell_type": "code",
      "metadata": {
        "id": "DYcP_QDZvr5x",
        "colab_type": "code",
        "colab": {}
      },
      "source": [
        "import numpy as np\n",
        "np.random.seed(0)\n",
        "from itertools import product # Cartesian product"
      ],
      "execution_count": null,
      "outputs": []
    },
    {
      "cell_type": "markdown",
      "metadata": {
        "id": "JtuxiDHXvr6B",
        "colab_type": "text"
      },
      "source": [
        "Implementation of the convex decomposition of $\\mathbf{x} \\in [0, 1]^n$ into\n",
        "*   $n + 1$ selected vectors $\\texttt{b[j]} = \\mathbf{b}^j \\in \\mathbb{B}$, with $\\mathbb{B} = \\{0, 1\\}^n$\n",
        "*   as many relative coefficients $\\texttt{a[j]} = {\\alpha_\\mathbf{b}^j} \\ge 0$ s.t. ${\\sum_{j = 0}^{n}} \\alpha_{\\mathbf{b}^j} = 1$."
      ]
    },
    {
      "cell_type": "code",
      "metadata": {
        "id": "SLlUWQazvr6D",
        "colab_type": "code",
        "colab": {}
      },
      "source": [
        "def my_decomposition(x):\n",
        "    \n",
        "    n = len(x)          # dimension\n",
        "    p = x.argsort()     # permutation that sorts x in ascending order\n",
        "    B = np.concatenate( # B[j] will be the j-th element of the base\n",
        "        (\n",
        "            np.ones((n, n), dtype=bool),\n",
        "            np.zeros((1, n), dtype=bool)\n",
        "        )\n",
        "    )\n",
        "    a = np.zeros(n + 1) # alpha coefficients\n",
        "    \n",
        "    # implementation of loop algorithm of Notes \"4 - Interpolation\", page 9.\n",
        "    a[0] = x[p[0]]\n",
        "    for j in range(1, n):\n",
        "        B[j:, p[j - 1]] = 0 # this entry zeroed out from now on (typo in the notes)\n",
        "        a[j] = x[p[j]] - x[p[j - 1]]\n",
        "    a[n] = 1 - a.sum()\n",
        "\n",
        "\n",
        "    # xxx FLIPS DONE IN B\n",
        "\n",
        "    # xxx FLIPS DONE IN MORE EFFICIENT WAY:\n",
        "    n1 = (n + 1) // 2 + n % 2\n",
        "    n0 = (n + 1) - n1\n",
        "    B = np.concatenate(\n",
        "        (\n",
        "            np.ones((n1, n), dtype=bool),  # 1st half (rounded up) all 1s\n",
        "            np.zeros((n0, n), dtype=bool), # 2nd half (rounded down) all 0s\n",
        "        ),\n",
        "    )\n",
        "    for i in range(1, n1):\n",
        "        B[i:, p[i - 1]] = False\n",
        "    for i in range(n1, -1, n + 1):\n",
        "        B[n1:i, p[i]] = True\n",
        "\n",
        "\n",
        "\n",
        "\n",
        "\n",
        "    return p, B, a"
      ],
      "execution_count": null,
      "outputs": []
    },
    {
      "cell_type": "markdown",
      "metadata": {
        "id": "5a0smHwjvr6P",
        "colab_type": "text"
      },
      "source": [
        "Correctness check of the implementation: $\\mathbf{x} = {\\sum_{j = 0}^{n}} \\alpha_{\\mathbf{b}^j} \\mathbf{b}^j$ must hold."
      ]
    },
    {
      "cell_type": "code",
      "metadata": {
        "id": "D6b0r6Hgvr6R",
        "colab_type": "code",
        "colab": {
          "base_uri": "https://localhost:8080/",
          "height": 537
        },
        "outputId": "5b6cf527-44ce-4574-9d5b-43f1e4254030"
      },
      "source": [
        "n = np.random.randint(1, 1 + 10, (1,)).item() # random dimension (max 5)\n",
        "x = np.random.rand(n)                        # random vector in [0, 1)^n\n",
        "\n",
        "p, B, a = my_decomposition(x)\n",
        "\n",
        "print(B.shape, a.shape)\n",
        "\n",
        "aB = np.dot(a, B)                            # recomposition\n",
        "d = ((aB - x)**2).sum()**0.5                 # Euclidean distance\n",
        "\n",
        "# show summary of the test\n",
        "print('\\nVector')\n",
        "print('n = %d' % n)\n",
        "print('x =', x)\n",
        "print('\\nDecomposition')\n",
        "print('p =', p)\n",
        "print('B =')\n",
        "print(B.astype(np.int))\n",
        "print('a =', a)\n",
        "print('\\nCheck of recomposition')\n",
        "print('  x =', x)\n",
        "print('a*B =', aB)\n",
        "print('\\nTheoretical discrepancy is 0. Numerical discrepancy: d =', d)"
      ],
      "execution_count": null,
      "outputs": [
        {
          "output_type": "stream",
          "text": [
            "(10, 9) (10,)\n",
            "\n",
            "Vector\n",
            "n = 9\n",
            "x = [0.35231166 0.46924917 0.84114013 0.90464774 0.03755938 0.50831545\n",
            " 0.16684751 0.77905102 0.8649333 ]\n",
            "\n",
            "Decomposition\n",
            "p = [4 6 0 1 5 7 2 8 3]\n",
            "B =\n",
            "[[1 1 1 1 1 1 1 1 1]\n",
            " [1 1 1 1 0 1 1 1 1]\n",
            " [1 1 1 1 0 1 0 1 1]\n",
            " [0 1 1 1 0 1 0 1 1]\n",
            " [0 0 1 1 0 1 0 1 1]\n",
            " [0 0 1 1 0 0 0 1 1]\n",
            " [0 0 0 0 0 0 0 0 0]\n",
            " [0 0 0 0 0 0 0 0 0]\n",
            " [0 0 0 0 0 0 0 0 0]\n",
            " [0 0 0 0 0 0 0 0 0]]\n",
            "a = [0.03755938 0.12928813 0.18546415 0.11693751 0.03906627 0.27073557\n",
            " 0.06208911 0.02379317 0.03971445 0.09535226]\n",
            "\n",
            "Check of recomposition\n",
            "  x = [0.35231166 0.46924917 0.84114013 0.90464774 0.03755938 0.50831545\n",
            " 0.16684751 0.77905102 0.8649333 ]\n",
            "a*B = [0.35231166 0.46924917 0.77905102 0.77905102 0.03755938 0.50831545\n",
            " 0.16684751 0.77905102 0.77905102]\n",
            "\n",
            "Theoretical discrepancy is 0. Numerical discrepancy: d = 0.1643330768978116\n"
          ],
          "name": "stdout"
        }
      ]
    },
    {
      "cell_type": "markdown",
      "metadata": {
        "id": "KJw5lkeHvr6g",
        "colab_type": "text"
      },
      "source": [
        "Implementation of $\\texttt{fhat} = \\hat{f}(\\cdot)$, based on the data structure $\\texttt{S} = S_{j_0, \\cdots, j_{n - 1}}$."
      ]
    },
    {
      "cell_type": "code",
      "metadata": {
        "id": "kGEzWSMcvr6i",
        "colab_type": "code",
        "colab": {}
      },
      "source": [
        "def fhat(x):\n",
        "    \n",
        "    n = len(x)                     # dimension\n",
        "    z = np.floor(x).astype(np.int) # vector integer part\n",
        "    x = x - z                      # vector fractional part\n",
        "    \n",
        "    _, B, a = my_decomposition(x)\n",
        "    \n",
        "    z_plus_B = [tuple(z + B[i]) for i in range(n + 1)] # point z (broadcast) + all vectors B\n",
        "                                                       # I nedd tuples to...\n",
        "    \n",
        "    f_zplusB = np.array([S[zplusb] for zplusb in z_plus_B])\n",
        "    # S is the data structure f(z grid)\n",
        "    # NB I use S, not call f\n",
        "    # f(vector z + all vectors B)\n",
        "    \n",
        "    return np.dot(a, f_zplusB) "
      ],
      "execution_count": null,
      "outputs": []
    },
    {
      "cell_type": "code",
      "metadata": {
        "id": "iJDgeSJqvr6p",
        "colab_type": "code",
        "colab": {
          "base_uri": "https://localhost:8080/",
          "height": 104
        },
        "outputId": "4065963e-5f61-4f9b-ade6-3ae26cb86665"
      },
      "source": [
        "# My scalar function to interpolate\n",
        "def f(x):\n",
        "    return np.sin(x / 10).sum(-1)\n",
        "\n",
        "\n",
        "J = (100,) # number of grid points in each dimension\n",
        "n = len(J)       # dimension\n",
        "\n",
        "# Grid Z subset of (Integers)^n\n",
        "Z = [np.arange(J[i]) for i in range(n)]\n",
        "\n",
        "S = np.zeros(J)\n",
        "for z in product(*Z): # Cartesian product done via itertool.product\n",
        "    S[z] = f(np.array(z))\n",
        "\n",
        "# A random point where to interpolate\n",
        "x_integral = np.concatenate(tuple(np.random.randint(0, J[i] - 1, (1,)) for i in range(n)))\n",
        "x_fractional = np.random.rand(n)\n",
        "x = x_integral + x_fractional\n",
        "print(x)\n",
        "#x = x_integral\n",
        "print(x)\n",
        "\n",
        "fx, fhatx = f(x), fhat(x)\n",
        "e = abs(fhatx - fx)\n",
        "print('   f(x) =', fx)\n",
        "print('fhat(x) =', fhatx)\n",
        "print('Interpolation error: e = |fhat(x) - f(x)| =', e)"
      ],
      "execution_count": null,
      "outputs": [
        {
          "output_type": "stream",
          "text": [
            "[60.17295379]\n",
            "[60.17295379]\n",
            "   f(x) = -0.262768026865253\n",
            "fhat(x) = -0.2625952238357608\n",
            "Interpolation error: e = |fhat(x) - f(x)| = 0.00017280302949224113\n"
          ],
          "name": "stdout"
        }
      ]
    },
    {
      "cell_type": "code",
      "metadata": {
        "id": "mVOvcY1Kvr6u",
        "colab_type": "code",
        "colab": {
          "base_uri": "https://localhost:8080/",
          "height": 265
        },
        "outputId": "e05076c1-6983-467d-a9f0-ef531e74454b"
      },
      "source": [
        "M = 1000\n",
        "x = []\n",
        "fx = []\n",
        "fhatx = []\n",
        "for m in range(M):\n",
        "    x_integral = np.concatenate(tuple(np.random.randint(0, J[i] - 1, (1,)) for i in range(n)))\n",
        "    x_fractional = np.random.rand(n)\n",
        "    x.append(x_integral + x_fractional)\n",
        "    fx.append(f(x[-1]))\n",
        "    fhatx.append(fhat(x[-1]))\n",
        "\n",
        "import matplotlib.pyplot as plt\n",
        "plt.plot(x, fx, '.')\n",
        "plt.plot(x, fhatx, '.')\n",
        "plt.grid()\n",
        "plt.show()\n"
      ],
      "execution_count": null,
      "outputs": [
        {
          "output_type": "display_data",
          "data": {
            "image/png": "[encoded data removed]",
            "text/plain": [
              "<Figure size 432x288 with 1 Axes>"
            ]
          },
          "metadata": {
            "tags": [],
            "needs_background": "light"
          }
        }
      ]
    },
    {
      "cell_type": "code",
      "metadata": {
        "id": "jjE-KBrC0a2m",
        "colab_type": "code",
        "colab": {}
      },
      "source": [
        ""
      ],
      "execution_count": null,
      "outputs": []
    }
  ]
}