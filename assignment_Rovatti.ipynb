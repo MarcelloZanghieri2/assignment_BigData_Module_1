{
  "nbformat": 4,
  "nbformat_minor": 0,
  "metadata": {
    "kernelspec": {
      "display_name": "Python 3",
      "language": "python",
      "name": "python3"
    },
    "language_info": {
      "codemirror_mode": {
        "name": "ipython",
        "version": 3
      },
      "file_extension": ".py",
      "mimetype": "text/x-python",
      "name": "python",
      "nbconvert_exporter": "python",
      "pygments_lexer": "ipython3",
      "version": "3.7.6"
    },
    "colab": {
      "name": "assignment_Rovatti.ipynb",
      "provenance": [],
      "collapsed_sections": []
    }
  },
  "cells": [
    {
      "cell_type": "markdown",
      "metadata": {
        "id": "hgX2SVrHvr5s",
        "colab_type": "text"
      },
      "source": [
        "# Assignment for Big Data Module 1\n",
        "\n",
        "\"*Implementare un interpolatore lineare a tratti su una griglia a $n$ dimensioni.*\n",
        "\n",
        "*Supporre che sia data la struttura dati multidimensionale $S_{j_0, \\cdots, j_{n - 1}}$ che contiene il valore del campione della funzione nel punto della griglia di indici $j_0, \\cdots, j_{n-1}$ e che il punto in cui desidero calcolare l'interpolazione sia dato come un vettore $x_j$ con $n$ componenti.*\"\n",
        "\n",
        "Reference used: course lecture notes 4, *Interpolation*."
      ]
    },
    {
      "cell_type": "code",
      "metadata": {
        "id": "DYcP_QDZvr5x",
        "colab_type": "code",
        "colab": {}
      },
      "source": [
        "import numpy as np\n",
        "np.random.seed(0)\n",
        "from itertools import product # Cartesian product"
      ],
      "execution_count": 1,
      "outputs": []
    },
    {
      "cell_type": "markdown",
      "metadata": {
        "id": "JtuxiDHXvr6B",
        "colab_type": "text"
      },
      "source": [
        "Implementation of the convex decomposition of $\\mathbf{x} \\in [0, 1]^n$ into $n + 1$ pairs $(\\mathbf{b}^j, \\alpha_{\\mathbf{b}^j})_{j = 0, \\cdots, n}$, of:\n",
        "*   selected vectors `b[j]` $= \\mathbf{b}^j \\in \\mathbb{B}$, with $\\mathbb{B} = \\{0, 1\\}^n$\n",
        "*   corresponding coefficients `a[j]` $= {\\alpha_{\\mathbf{b}^j}} \\ge 0$ s.t. ${\\sum_{j = 0}^{n}} \\alpha_{\\mathbf{b}^j} = 1$."
      ]
    },
    {
      "cell_type": "code",
      "metadata": {
        "id": "SLlUWQazvr6D",
        "colab_type": "code",
        "colab": {}
      },
      "source": [
        "def my_decomposition(x):\n",
        "    \n",
        "    n = len(x)          # dimension\n",
        "    p = x.argsort()     # permutation that sorts x in ascending order\n",
        "    B = np.concatenate( # B[j] will be the j-th element of the base\n",
        "        (\n",
        "            np.ones((n, n), dtype=bool),\n",
        "            np.zeros((1, n), dtype=bool), # (last one is already known to be all 0s)\n",
        "        )\n",
        "    )\n",
        "    a = np.zeros(n + 1) # alpha coefficients: a[j] is the coeff of B[j]\n",
        "    \n",
        "    # decomposition algorithm\n",
        "    a[0] = x[p[0]]\n",
        "    for j in range(1, n):\n",
        "        B[j:, p[j - 1]] = 0 # entry j is zeroed from this vector on\n",
        "        a[j] = x[p[j]] - x[p[j - 1]]\n",
        "    a[n] = 1 - a.sum()\n",
        "\n",
        "    '''\n",
        "    # ~ n**2 / 2 flips\n",
        "    # ~ n**2 / 4 flips\n",
        "    n1 = (n + 1) // 2 + (n + 1) % 2\n",
        "    n0 = (n + 1) // 2\n",
        "    B = np.concatenate(\n",
        "        (\n",
        "            np.ones((n1, n), dtype=bool),  # 1st half (rounded up) all 1s\n",
        "            np.zeros((n0, n), dtype=bool), # 2nd half (rounded down) all 0s\n",
        "        ),\n",
        "    )\n",
        "    for i in range(1, n1):\n",
        "        B[i:, p[i - 1]] = False\n",
        "    for i in range(n1, n):\n",
        "        B[n1:i+1, p[i]] = True\n",
        "    '''\n",
        "\n",
        "    return p, B, a"
      ],
      "execution_count": 2,
      "outputs": []
    },
    {
      "cell_type": "markdown",
      "metadata": {
        "id": "5a0smHwjvr6P",
        "colab_type": "text"
      },
      "source": [
        "Check of the correctness of the implementation: it must hold that $\\mathbf{x} = {\\sum_{j = 0}^{n}} \\alpha_{\\mathbf{b}^j} \\mathbf{b}^j$.\n",
        "\n",
        "That is, `np.dot(a, B)` must amount to `x` up to the numerical precision."
      ]
    },
    {
      "cell_type": "code",
      "metadata": {
        "id": "D6b0r6Hgvr6R",
        "colab_type": "code",
        "colab": {
          "base_uri": "https://localhost:8080/",
          "height": 381
        },
        "outputId": "9ccf5cad-c53d-418f-e599-b9b1acd6a75f"
      },
      "source": [
        "n = np.random.randint(1, 1 + 5, (1,)).item() # random dimension (max 5)\n",
        "x = np.random.rand(n)                        # random vector in [0, 1)^n\n",
        "\n",
        "p, B, a = my_decomposition(x)\n",
        "\n",
        "aB = np.dot(a, B)                            # recomposition\n",
        "d = ((aB - x)**2).sum()**0.5                 # Euclidean distance\n",
        "\n",
        "# print a summary of the test\n",
        "print('\\nVector')\n",
        "print('n = %d' % n)\n",
        "print('x =', x)\n",
        "print('\\nDecomposition')\n",
        "print('p =', p)\n",
        "print('B =')\n",
        "print(B.astype(np.int))\n",
        "print('a =', a)\n",
        "print('\\nCheck of the recomposition')\n",
        "print('  x =', x)\n",
        "print('a*B =', aB)\n",
        "print('\\nTheoretical discrepancy is 0. Numerical discrepancy: d =', d)"
      ],
      "execution_count": 3,
      "outputs": [
        {
          "output_type": "stream",
          "text": [
            "\n",
            "Vector\n",
            "n = 5\n",
            "x = [0.59284462 0.84426575 0.85794562 0.84725174 0.6235637 ]\n",
            "\n",
            "Decomposition\n",
            "p = [0 4 1 3 2]\n",
            "B =\n",
            "[[1 1 1 1 1]\n",
            " [0 1 1 1 1]\n",
            " [0 1 1 1 0]\n",
            " [0 0 1 1 0]\n",
            " [0 0 1 0 0]\n",
            " [0 0 0 0 0]]\n",
            "a = [0.59284462 0.03071908 0.22070205 0.00298599 0.01069388 0.14205438]\n",
            "\n",
            "Check of the recomposition\n",
            "  x = [0.59284462 0.84426575 0.85794562 0.84725174 0.6235637 ]\n",
            "a*B = [0.59284462 0.84426575 0.85794562 0.84725174 0.6235637 ]\n",
            "\n",
            "Theoretical discrepancy is 0. Numerical discrepancy: d = 0.0\n"
          ],
          "name": "stdout"
        }
      ]
    },
    {
      "cell_type": "markdown",
      "metadata": {
        "id": "KJw5lkeHvr6g",
        "colab_type": "text"
      },
      "source": [
        "Implementation of `fhat` $= \\hat{f}(\\cdot)$, based on the data structure `S` $= S_{j_0, \\cdots, j_{n - 1}}$.\n",
        "\n",
        "In short:\n",
        "$\\hat{f}(\\mathbf{x}) = {\\sum_{j = 0}^{n}} \\alpha_{\\mathbf{b}^j} S(z + \\mathbf{b}^j)$\n",
        "\n",
        "`fhat(x) = np.dot(a, S[z + B])`"
      ]
    },
    {
      "cell_type": "code",
      "metadata": {
        "id": "kGEzWSMcvr6i",
        "colab_type": "code",
        "colab": {}
      },
      "source": [
        "def fhat(x):\n",
        "    \n",
        "    n = len(x)                     # dimension\n",
        "    z = np.floor(x).astype(np.int) # vector integer part\n",
        "    x = x - z                      # vector fractional part\n",
        "    \n",
        "    _, B, a = my_decomposition(x)\n",
        "    \n",
        "    # z + B :   point z (broadcast) + all decomposition vectors B\n",
        "    # zpb   :   point z + one vector b = B[j]\n",
        "    # S     :   the data structure f(z grid)\n",
        "    S_zplusB = np.array([S[tuple(zpb)] for zpb in z + B])\n",
        "    # f_zplusB :    array of the n+1 images of z + B\n",
        "    \n",
        "    \n",
        "    return np.dot(a, S_zplusB) "
      ],
      "execution_count": 35,
      "outputs": []
    },
    {
      "cell_type": "markdown",
      "metadata": {
        "id": "1gQsuvXcRig_",
        "colab_type": "text"
      },
      "source": [
        "## Example 1"
      ]
    },
    {
      "cell_type": "code",
      "metadata": {
        "id": "d-q5tZ84DClZ",
        "colab_type": "code",
        "colab": {
          "base_uri": "https://localhost:8080/",
          "height": 87
        },
        "outputId": "6963c8f4-d6d8-4e7a-edd0-a4b085481ddb"
      },
      "source": [
        "# My scalar function to interpolate\n",
        "def f(x):\n",
        "    return np.sin(1.4**x).sum()\n",
        "\n",
        "J = (10, 10, 10)  # number of grid points in each dimension\n",
        "n = len(J) # dimension\n",
        "xmax = J[0] - 2\n",
        "\n",
        "Zj = [np.arange(J[j]) for j in range(n)] # integers points of each dimension\n",
        "grid_in_Zn = product(*Zj) # grid: \"rectangular\" subset of Z^n. Cartesian product done via itertool.product\n",
        "\n",
        "S = np.zeros(J)\n",
        "for z in grid_in_Zn:\n",
        "    S[z] = f(np.array(z))\n",
        "\n",
        "# A random point where to interpolate\n",
        "x_integral = np.concatenate(tuple(np.random.randint(0, J[i] - 1, (1,)) for i in range(n)))\n",
        "x_fractional = np.random.rand(n)\n",
        "x = x_integral# + x_fractional\n",
        "print(x)\n",
        "\n",
        "fx, fhatx = f(x), fhat(x)\n",
        "e = abs(fhatx - fx)\n",
        "print('   f(x) =', fx)\n",
        "print('fhat(x) =', fhatx)\n",
        "print('Interpolation error: e = |fhat(x) - f(x)| =', e)"
      ],
      "execution_count": 149,
      "outputs": [
        {
          "output_type": "stream",
          "text": [
            "[0 8 3]\n",
            "   f(x) = 2.042128683603636\n",
            "fhat(x) = 2.042128683603636\n",
            "Interpolation error: e = |fhat(x) - f(x)| = 0.0\n"
          ],
          "name": "stdout"
        }
      ]
    },
    {
      "cell_type": "markdown",
      "metadata": {
        "id": "CrbZ5pw6RbsV",
        "colab_type": "text"
      },
      "source": [
        "## Example 2"
      ]
    },
    {
      "cell_type": "code",
      "metadata": {
        "id": "iJDgeSJqvr6p",
        "colab_type": "code",
        "colab": {
          "base_uri": "https://localhost:8080/",
          "height": 263
        },
        "outputId": "af834d7e-2b6c-48d4-90f5-3d057beea0e5"
      },
      "source": [
        "# My scalar function to interpolate\n",
        "def f(x):\n",
        "    return np.sin(1.4**x).sum()\n",
        "\n",
        "J = (10,)  # number of grid points in each dimension\n",
        "n = len(J) # dimension\n",
        "xmax = J[0] - 2\n",
        "\n",
        "Zj = [np.arange(J[j]) for j in range(n)] # integers points of each dimension\n",
        "grid_in_Zn = product(*Zj) # grid: \"rectangular\" subset of Z^n. Cartesian product done via itertool.product\n",
        "\n",
        "S = np.zeros(J)\n",
        "for z in grid_in_Zn:\n",
        "    S[z] = f(np.array(z))\n",
        "\n",
        "M = 1 + (J[0] - 2) * 10\n",
        "x = np.linspace(0, xmax, M).reshape((M, 1))\n",
        "fx, fhatx = np.zeros(M), np.zeros(M)\n",
        "\n",
        "for m in range(M):\n",
        "    fx[m] = f(x[m])\n",
        "    fhatx[m] = fhat(x[m])\n",
        "\n",
        "\n",
        "import matplotlib.pyplot as plt\n",
        "plt.figure(figsize=(20, 4))\n",
        "\n",
        "xf = np.linspace(0, J[0] - 2, 1000)\n",
        "plt.plot(xf, [f(xx) for xx in xf], 'r-')\n",
        "\n",
        "plt.plot(x, fhatx, '.-')\n",
        "\n",
        "zticks = range(0, J[0] - 1)\n",
        "plt.plot(zticks, [f(z) for z in zticks], 'ko')\n",
        "\n",
        "plt.grid()"
      ],
      "execution_count": 147,
      "outputs": [
        {
          "output_type": "display_data",
          "data": {
            "image/png": "[encoded data removed]",
            "text/plain": [
              "<Figure size 1440x288 with 1 Axes>"
            ]
          },
          "metadata": {
            "tags": [],
            "needs_background": "light"
          }
        }
      ]
    },
    {
      "cell_type": "code",
      "metadata": {
        "id": "UqpxihXoR5mY",
        "colab_type": "code",
        "colab": {}
      },
      "source": [
        ""
      ],
      "execution_count": null,
      "outputs": []
    }
  ]
}